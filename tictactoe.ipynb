# Tic-Tac-Toe

# Create the board
board = [' ' for _ in range(9)]

# Function to display the board
def display_board():
    print('-------------')
    print('| ' + board[0] + ' | ' + board[1] + ' | ' + board[2] + ' |')
    print('-------------')
    print('| ' + board[3] + ' | ' + board[4] + ' | ' + board[5] + ' |')
    print('-------------')
    print('| ' + board[6] + ' | ' + board[7] + ' | ' + board[8] + ' |')
    print('-------------')

# Function to check if the board is full
def is_board_full():
    return ' ' not in board

# Function to check if a player has won
def check_win(player):
    win_combinations = [
        [0, 1, 2], [3, 4, 5], [6, 7, 8],  # rows
        [0, 3, 6], [1, 4, 7], [2, 5, 8],  # columns
        [0, 4, 8], [2, 4, 6]  # diagonals
    ]
    for combo in win_combinations:
        if board[combo[0]] == board[combo[1]] == board[combo[2]] == player:
            return True
    return False

# Function to make a move
def make_move(player, position):
    board[position] = player

# Function to get a valid move from the player
def get_move(player):
    while True:
        try:
            position = int(input("Player " + player + ", enter your move (0-8): "))
            if 0 <= position <= 8 and board[position] == ' ':
                return position
            else:
                print("Invalid move. Please try again.")
        except ValueError:
            print("Invalid input. Please enter a number.")

# Function to play the game
def play_game():
    current_player = 'X'
    while True:
        display_board()
        position = get_move(current_player)
        make_move(current_player, position)
        if check_win(current_player):
            display_board()
            print("Player " + current_player + " wins!")
            break
        elif is_board_full():
            display_board()
            print("It's a tie!")
            break
        current_player = 'O' if current_player == 'X' else 'X'

# Start the game
play_game()
